{
 "cells": [
  {
   "cell_type": "markdown",
   "metadata": {},
   "source": [
    "# Лабораторная работа №1\n",
    "---\n",
    "### Задание №1:\n",
    "\n",
    "Реализовать методы дихотомии, золотого сечения, \n",
    "исследовать их сходимость и провести сравнение\n",
    "по числу вычислений функции для достижения\n",
    "заданной точности $\\xi$ от $10^{-1}$ до $10^{-7}$ . Построить\n",
    "график зависимости количества вычислений минимизируемой функции от десятичного логарифма\n",
    "задаваемой точности $\\xi$ <br>\n",
    "\n",
    "**Текст программы:**"
   ]
  },
  {
   "cell_type": "code",
   "execution_count": null,
   "metadata": {},
   "outputs": [],
   "source": [
    "import math \n",
    "\n",
    "def dihotomy(input_raw):\n",
    "     \n",
    "    \n",
    "    \n",
    "def goldenRatio(input_raw):\n",
    "    \n",
    "    \n"
   ]
  },
  {
   "cell_type": "code",
   "execution_count": null,
   "metadata": {},
   "outputs": [],
   "source": [
    "class Source:\n",
    "    def __init__(self, func, a, b):\n",
    "        self.func = func # Заданная по варианту функция\n",
    "        self.left = a    # левая граница исследуемого отрезка \n",
    "        self.right = b   # Правая граница отрезка\n",
    "\n",
    "func = lambda x: (x-1)**2 \n",
    "a = -2\n",
    "b = 20\n",
    "\n",
    "task1 = Source(func, a, b)\n",
    "\n",
    "dihotomy(task1)\n",
    "goldenRatio(task1)\n"
   ]
  }
 ],
 "metadata": {
  "interpreter": {
   "hash": "e7370f93d1d0cde622a1f8e1c04877d8463912d04d973331ad4851f04de6915a"
  },
  "kernelspec": {
   "display_name": "Python 3.10.2 64-bit",
   "language": "python",
   "name": "python3"
  },
  "language_info": {
   "name": "python",
   "version": "3.10.2"
  },
  "orig_nbformat": 4
 },
 "nbformat": 4,
 "nbformat_minor": 2
}
