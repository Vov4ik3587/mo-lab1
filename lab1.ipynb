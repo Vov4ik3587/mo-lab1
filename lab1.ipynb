{
 "cells": [
  {
   "cell_type": "markdown",
   "metadata": {},
   "source": [
    "# Лабораторная работа №1\n",
    "\n",
    "---\n",
    "\n",
    "### Задание №1:\n",
    "\n",
    "Реализовать методы дихотомии, золотого сечения,\n",
    "исследовать их сходимость и провести сравнение\n",
    "по числу вычислений функции для достижения\n",
    "заданной точности $\\xi$ от $10^{-1}$ до $10^{-7}$ . Построить\n",
    "график зависимости количества вычислений минимизируемой функции от десятичного логарифма\n",
    "задаваемой точности $\\xi$ <br>\n",
    "\n",
    "**Текст программы:**\n"
   ]
  },
  {
   "cell_type": "code",
   "execution_count": null,
   "metadata": {},
   "outputs": [],
   "source": [
    "import math\n",
    "\n",
    "def dihotomy(input_raw, xi) -> tuple[float, float, dict]:\n",
    "    \"\"\"Метод дихотомии - деление отрезка пополам\n",
    "\n",
    "    Args:\n",
    "        input_raw (class): объект класса, содержащий данную функцию и отрезок\n",
    "        xi (float): Заданная точность вычисления \n",
    "\n",
    "    Returns:\n",
    "        tuple[float, float, dict]: Возвращает xmin, fmin и данные для таблиц\n",
    "    \"\"\"\n",
    "    left = input_raw.left\n",
    "    right = input_raw.right\n",
    "    iter = 0\n",
    "    delta = xi / 2\n",
    "    while (math.abs(right - left) > xi):\n",
    "        iter += 1\n",
    "        x1 = (left + right - delta) / 2\n",
    "        x2 = (left + right + delta) / 2\n",
    "        if (input_raw.func(x1) < input_raw.func(x2)):\n",
    "            right = x2\n",
    "        else:\n",
    "            left = x1\n",
    "\n",
    "    xmin = (left + right) / 2\n",
    "    return xmin\n",
    "\n",
    "# def goldenRatio(input_raw):"
   ]
  },
  {
   "cell_type": "code",
   "execution_count": null,
   "metadata": {},
   "outputs": [],
   "source": [
    "class Source:\n",
    "    def __init__(self, func, a, b):\n",
    "        self.func = func  # Заданная по варианту функция\n",
    "        self.left = a     # левая граница исследуемого отрезка\n",
    "        self.right = b    # Правая граница отрезка\n",
    "\n",
    "\n",
    "def func(x): \n",
    "    return (x-7)**2 # Исследуемая функция \n",
    "\n",
    "def main():    \n",
    "    a = -2 # Левая граница\n",
    "    b = 20 # Правая граница\n",
    "\n",
    "    xi = (1e ^ -1, 1e ^ -2, 1e ^ -3, 1e ^ -4, 1e ^ -5, 1e ^ -6, 1e ^ -7)\n",
    "    \n",
    "    result_gold_ratio = []\n",
    "    result_dih = []\n",
    "    task1 = Source(func, a, b) # Создаем объект класса, который передадим в методы\n",
    "    \n",
    "    for i,j in xi,len(xi):\n",
    "        result_dih[j] = func(dihotomy(task1, xi(i)))\n",
    "        result_gold_ratio[j] = goldenRatio(task1, xi(i))\n",
    "\n",
    "\n",
    "\"\"\" if __name__==\"__main__\":\n",
    "    main() \"\"\""
   ]
  }
 ],
 "metadata": {
  "interpreter": {
   "hash": "e7370f93d1d0cde622a1f8e1c04877d8463912d04d973331ad4851f04de6915a"
  },
  "kernelspec": {
   "display_name": "Python 3.10.2 64-bit",
   "language": "python",
   "name": "python3"
  },
  "language_info": {
   "name": "python",
   "version": "3.10.2"
  },
  "orig_nbformat": 4
 },
 "nbformat": 4,
 "nbformat_minor": 2
}
