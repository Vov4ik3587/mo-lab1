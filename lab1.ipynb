{
 "cells": [
  {
   "cell_type": "markdown",
   "metadata": {},
   "source": [
    "# Лабораторная работа №1\n",
    "---\n",
    "### Задание №1:\n",
    "\n",
    "Реализовать методы дихотомии, золотого сечения, \n",
    "исследовать их сходимость и провести сравнение\n",
    "по числу вычислений функции для достижения\n",
    "заданной точности $\\xi$ от $10^{-1}$ до $10^{-7}$ . Построить\n",
    "график зависимости количества вычислений минимизируемой функции от десятичного логарифма\n",
    "задаваемой точности $\\xi$ <br>\n",
    "\n",
    "**Текст программы:**"
   ]
  },
  {
   "cell_type": "code",
   "execution_count": null,
   "metadata": {},
   "outputs": [],
   "source": [
    "import math \n",
    "\n",
    "def dihotomy(input_raw, xi):\n",
    "    left = input_raw.left\n",
    "    right = input_raw.right\n",
    "    iter = 0\n",
    "    delta = xi / 2\n",
    "    while (math.abs(right - left) > xi):\n",
    "        iter++\n",
    "        x1 = (left + right - delta) / 2\n",
    "        x2 = (left + right + delta) / 2\n",
    "        if (input_raw.func(x1) < input_raw.func(x2)):\n",
    "            right = x2\n",
    "        else\n",
    "            left = x1        \n",
    "\n",
    "    xmin = (left + right) / 2\n",
    "    \n",
    "    \n",
    "def goldenRatio(input_raw):\n",
    "    \n",
    "    \n"
   ]
  },
  {
   "cell_type": "code",
   "execution_count": null,
   "metadata": {},
   "outputs": [],
   "source": [
    "class Source:\n",
    "    def __init__(self, func, a, b):\n",
    "        self.func = func # Заданная по варианту функция\n",
    "        self.left = a    # левая граница исследуемого отрезка \n",
    "        self.right = b   # Правая граница отрезка\n",
    "\n",
    "func = lambda x: (x-1)**2 \n",
    "a = -2\n",
    "b = 20\n",
    "\n",
    "xi = (1e^-1, 1e^-2, 1e^-3, 1e^-4,1e^-5, 1e^-6, 1e^-7)\n",
    "\n",
    "result_gold_ratio = []\n",
    "result_dih = []\n",
    "task1 = Source(func, a, b)\n",
    "for i in xi:\n",
    "    for j in result:      \n",
    "        result[j] = dihotomy(task1, xi(i))\n",
    "        result_gold_ratio[j] = goldenRatio(task1, xi(i))\n"
   ]
  }
 ],
 "metadata": {
  "interpreter": {
   "hash": "e7370f93d1d0cde622a1f8e1c04877d8463912d04d973331ad4851f04de6915a"
  },
  "kernelspec": {
   "display_name": "Python 3.10.2 64-bit",
   "language": "python",
   "name": "python3"
  },
  "language_info": {
   "name": "python",
   "version": "3.10.2"
  },
  "orig_nbformat": 4
 },
 "nbformat": 4,
 "nbformat_minor": 2
}
